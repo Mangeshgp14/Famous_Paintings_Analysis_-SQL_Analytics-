{
 "cells": [
  {
   "cell_type": "code",
   "execution_count": 1,
   "id": "08db684d",
   "metadata": {},
   "outputs": [],
   "source": [
    "#pip3 install mysql-connector-python"
   ]
  },
  {
   "cell_type": "code",
   "execution_count": 2,
   "id": "fa160b9a",
   "metadata": {},
   "outputs": [],
   "source": [
    "import pandas as pd\n",
    "from sqlalchemy import create_engine\n",
    "import config"
   ]
  },
  {
   "cell_type": "code",
   "execution_count": 3,
   "id": "751c6871",
   "metadata": {},
   "outputs": [],
   "source": [
    "# MySQL database configuration\n",
    "db_config = {\n",
    "    'user': config.username,\n",
    "    'password': config.password,\n",
    "    'host': config.host,\n",
    "    'database': config.database,\n",
    "    'raise_on_warnings': True\n",
    "}"
   ]
  },
  {
   "cell_type": "code",
   "execution_count": 4,
   "id": "81855589",
   "metadata": {},
   "outputs": [],
   "source": [
    "csv_files = ['artist','canvas_size', 'museum', 'museum_hours', 'product_size', 'subject', 'work' ]"
   ]
  },
  {
   "cell_type": "code",
   "execution_count": 5,
   "id": "48cbc049",
   "metadata": {},
   "outputs": [
    {
     "name": "stdout",
     "output_type": "stream",
     "text": [
      "Data imported successfully.\n",
      "Data imported successfully.\n",
      "Data imported successfully.\n",
      "Data imported successfully.\n",
      "Data imported successfully.\n",
      "Data imported successfully.\n",
      "Data imported successfully.\n"
     ]
    }
   ],
   "source": [
    "for i in csv_files :\n",
    "    \n",
    "    # CSV file path\n",
    "    csv_file_path = f'{i}.csv'\n",
    "\n",
    "    # Table name in MySQL\n",
    "    table_name = f'{i}'\n",
    "\n",
    "    # Create a SQLAlchemy engine\n",
    "    engine = create_engine(f\"mysql+mysqlconnector://{db_config['user']}:{db_config['password']}@{db_config['host']}/{db_config['database']}\")\n",
    "\n",
    "    # Read CSV into a Pandas DataFrame\n",
    "    df = pd.read_csv(csv_file_path)\n",
    "\n",
    "    # Insert DataFrame records into MySQL using SQLAlchemy\n",
    "    df.to_sql(name=table_name, con=engine, if_exists='replace', index=False)\n",
    "\n",
    "    print(\"Data imported successfully.\")\n"
   ]
  },
  {
   "cell_type": "code",
   "execution_count": null,
   "id": "05387982",
   "metadata": {},
   "outputs": [],
   "source": []
  }
 ],
 "metadata": {
  "kernelspec": {
   "display_name": "Python 3",
   "language": "python",
   "name": "python3"
  },
  "language_info": {
   "codemirror_mode": {
    "name": "ipython",
    "version": 3
   },
   "file_extension": ".py",
   "mimetype": "text/x-python",
   "name": "python",
   "nbconvert_exporter": "python",
   "pygments_lexer": "ipython3",
   "version": "3.8.8"
  }
 },
 "nbformat": 4,
 "nbformat_minor": 5
}
